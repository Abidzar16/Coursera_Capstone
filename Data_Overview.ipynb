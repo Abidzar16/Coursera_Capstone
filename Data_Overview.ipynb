{
    "nbformat_minor": 1, 
    "cells": [
        {
            "source": "# Coursera Capstone Project\n\n# For IBM Professional Certification in Data Science\n\n### \u201cThe Battle of the Neighbourhoods\u201d. \n____\n\n### Analysis of the Safest Location to Open a Business in San Francisco", 
            "cell_type": "markdown", 
            "metadata": {
                "collapsed": true
            }
        }, 
        {
            "source": "___\n### Data Overview\n\nData: For the data of this project, I will refer to number of sources.\n\n1. San Francisco neighborhoods : i will using Geojson file that provided by DataSF (https://data.sfgov.org/api/views/6ia5-2f8k/rows.json?accessType=DOWNLOAD), and then scrape it to gain their San Francisco's neighborhood name, But this data lacks the coordinates too, I will obtain them using geopy library\n\n2. Toronto neighborhoods: I will scrape the following Wikipedia page, https://en.wikipedia.org/wiki/List_of_postal_codes_of_Canada:_M, using the BeautifulSoup package to obtain and transform the data in the table of postal codes on the page and transform it into a pandas dataframe.\nBut this data lacks the coordinates too, I will obtain them from a link to a csv file that has the geographical coordinates of each postal code in Toronto: http://cocl.us/Geospatial_data.\nLater I will concatenate two dataset using methods provided in pandas library.\n\n3. New York neighborhoods: I will convert addresses, retrieved from IBM server, https://ibm.box.com/shared/static/fbpwbovar7lf8p5sgddm06cgipa2rxpe.json (so you can simply run a wget command and access the data), into their equivalent latitude and longitude values.\n \nAlso, I will use the Foursquare API to explore neighborhoods in the cities. I will use the explore endpoint to get the most common venue categories in each neighborhood, and then use this feature to group the neighborhoods into clusters.\nI will use the k-means clustering algorithm to complete this task. Finally, you will use the Folium library to visualize the neighborhoods in given three cities and their emerging clusters.\n4. Foursquare: I will refer to www.foursquare.com for data about venues in neighborhoods.\n", 
            "cell_type": "markdown", 
            "metadata": {}
        }, 
        {
            "source": "", 
            "cell_type": "code", 
            "metadata": {}, 
            "outputs": [], 
            "execution_count": null
        }
    ], 
    "metadata": {
        "kernelspec": {
            "display_name": "Python 3.5", 
            "name": "python3", 
            "language": "python"
        }, 
        "language_info": {
            "mimetype": "text/x-python", 
            "nbconvert_exporter": "python", 
            "version": "3.5.5", 
            "name": "python", 
            "file_extension": ".py", 
            "pygments_lexer": "ipython3", 
            "codemirror_mode": {
                "version": 3, 
                "name": "ipython"
            }
        }
    }, 
    "nbformat": 4
}