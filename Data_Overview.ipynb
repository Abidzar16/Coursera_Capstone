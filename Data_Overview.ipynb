{
    "nbformat_minor": 1, 
    "cells": [
        {
            "source": "# Coursera Capstone Project\n\n# For IBM Professional Certification in Data Science\n\n### \u201cThe Battle of the Neighbourhoods\u201d. \n____\n\n### Analysis of the Safest Location to Open a Business in San Francisco", 
            "cell_type": "markdown", 
            "metadata": {
                "collapsed": true
            }
        }, 
        {
            "source": "___\n### Data Overview\n\nthe data we need to determine the crime rate of a location is data that shows crime categories, crime description, where the crime take place (including its coordinate) such as the San Francisco Police Department Incident for 2016 from the San Francisco public data portal.\n\nIncidents originating from the San Francisco Police Department's Crime Incident Reporting System (SFPD). Updated daily, displaying data throughout 2016. Addresses and locations have been anonymized by moving to the middle block or to the intersection.", 
            "cell_type": "markdown", 
            "metadata": {}
        }, 
        {
            "execution_count": null, 
            "cell_type": "code", 
            "metadata": {}, 
            "outputs": [], 
            "source": ""
        }
    ], 
    "metadata": {
        "kernelspec": {
            "display_name": "Python 3.5", 
            "name": "python3", 
            "language": "python"
        }, 
        "language_info": {
            "mimetype": "text/x-python", 
            "nbconvert_exporter": "python", 
            "version": "3.5.5", 
            "name": "python", 
            "file_extension": ".py", 
            "pygments_lexer": "ipython3", 
            "codemirror_mode": {
                "version": 3, 
                "name": "ipython"
            }
        }
    }, 
    "nbformat": 4
}