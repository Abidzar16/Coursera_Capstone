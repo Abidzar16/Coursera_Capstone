{
 "cells": [
  {
   "cell_type": "markdown",
   "metadata": {
    "collapsed": true
   },
   "source": [
    "# Determining the Best Location for Establishing a Business Based on the Security Level"
   ]
  },
  {
   "cell_type": "markdown",
   "metadata": {},
   "source": [
    "## Data\n",
    "\n",
    "the data we need to determine the crime rate of a location is data that shows crime categories, crime description, where the crime take place (including its coordinate) such as the San Francisco Police Department Incident for 2016 from the San Francisco public data portal.\n",
    "\n",
    "Incidents originating from the San Francisco Police Department's Crime Incident Reporting System (SFPD). Updated daily, displaying data throughout 2016. Addresses and locations have been anonymized by moving to the middle block or to the intersection."
   ]
  },
  {
   "cell_type": "code",
   "execution_count": null,
   "metadata": {},
   "outputs": [],
   "source": []
  }
 ],
 "metadata": {
  "kernelspec": {
   "display_name": "Python 3.5",
   "language": "python",
   "name": "python3"
  },
  "language_info": {
   "codemirror_mode": {
    "name": "ipython",
    "version": 3
   },
   "file_extension": ".py",
   "mimetype": "text/x-python",
   "name": "python",
   "nbconvert_exporter": "python",
   "pygments_lexer": "ipython3",
   "version": "3.5.5"
  }
 },
 "nbformat": 4,
 "nbformat_minor": 1
}
