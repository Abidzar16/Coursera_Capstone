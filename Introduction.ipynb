{
    "nbformat_minor": 1, 
    "cells": [
        {
            "source": "# Coursera Capstone Project\n\n## For IBM Professional Certification in Data Science\n\n### \u201cThe Battle of the Neighbourhoods\u201d. \n____", 
            "cell_type": "markdown", 
            "metadata": {
                "collapsed": true
            }
        }, 
        {
            "source": "### Clustering neighborhoods of New York, Toronto and San Francisco", 
            "cell_type": "markdown", 
            "metadata": {}
        }, 
        {
            "source": "___\n### Introduction\n\nNew York and San Francisco are cities that located in the USA, but does this fact make the two cities resemble each other in the matter of their similarity of famous venues type?\n\nfor this project, we will find similarity between two city with another city (Toronto) as a comparison of whether those two cities resemble each other or not according to their type of famous places retrieved from www.foursquare.com\n___", 
            "cell_type": "markdown", 
            "metadata": {}
        }, 
        {
            "source": "", 
            "cell_type": "code", 
            "metadata": {}, 
            "outputs": [], 
            "execution_count": null
        }
    ], 
    "metadata": {
        "kernelspec": {
            "display_name": "Python 3.5", 
            "name": "python3", 
            "language": "python"
        }, 
        "language_info": {
            "mimetype": "text/x-python", 
            "nbconvert_exporter": "python", 
            "version": "3.5.5", 
            "name": "python", 
            "file_extension": ".py", 
            "pygments_lexer": "ipython3", 
            "codemirror_mode": {
                "version": 3, 
                "name": "ipython"
            }
        }
    }, 
    "nbformat": 4
}
