{
    "nbformat_minor": 1, 
    "cells": [
        {
            "source": "# Coursera Capstone Project\n\n# For IBM Professional Certification in Data Science\n\n### \u201cThe Battle of the Neighbourhoods\u201d. \n____", 
            "cell_type": "markdown", 
            "metadata": {
                "collapsed": true
            }
        }, 
        {
            "source": "### Analysis of the Safest Location to Open a Business in San Francisco", 
            "cell_type": "markdown", 
            "metadata": {}
        }, 
        {
            "source": "___\n### Problem statement\n\nBecause of its highly populated (884,363 in 2017, acccording to United States Census Bureau) and very strategic location, San Francisco is a very good city to set up a business to set up a business, according to areavibes.com, San Francisco's crime rate is 134% higher than the California average and 151% higher than the national average, making it worth noting in determining the location, \n\nAlthough the city has a very high crime rate, we could have avoided the incident by establishing a business in a safe place, the purpose of this project is to determine the safest location to open a business in San Francisco.\n\n#### Question\nIf we are to consider investment opportunity to open a business, where would be the safest place to do it?\n\n#### Elements to consider: \n+ the frequency of crimes in each neighborhood\n+ the categorization of the crime (it should be noted that some of criminality doesn't directly harms business)\n\n___", 
            "cell_type": "markdown", 
            "metadata": {}
        }, 
        {
            "source": "", 
            "cell_type": "code", 
            "metadata": {}, 
            "outputs": [], 
            "execution_count": null
        }
    ], 
    "metadata": {
        "kernelspec": {
            "display_name": "Python 3.5", 
            "name": "python3", 
            "language": "python"
        }, 
        "language_info": {
            "mimetype": "text/x-python", 
            "nbconvert_exporter": "python", 
            "version": "3.5.5", 
            "name": "python", 
            "file_extension": ".py", 
            "pygments_lexer": "ipython3", 
            "codemirror_mode": {
                "version": 3, 
                "name": "ipython"
            }
        }
    }, 
    "nbformat": 4
}
